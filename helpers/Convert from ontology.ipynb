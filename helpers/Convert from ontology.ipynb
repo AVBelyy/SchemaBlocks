{
 "cells": [
  {
   "cell_type": "code",
   "execution_count": 283,
   "metadata": {},
   "outputs": [],
   "source": [
    "import json\n",
    "import regex\n",
    "import collections\n",
    "import numpy as np\n",
    "import pandas as pd"
   ]
  },
  {
   "cell_type": "markdown",
   "metadata": {},
   "source": [
    "## Extract ontology events"
   ]
  },
  {
   "cell_type": "code",
   "execution_count": 284,
   "metadata": {},
   "outputs": [],
   "source": [
    "df = pd.read_excel('KAIROS_Annotation_Tagset_Phase_1_V1.0_argsplit.xlsx', sheet_name='events')"
   ]
  },
  {
   "cell_type": "code",
   "execution_count": 279,
   "metadata": {},
   "outputs": [],
   "source": [
    "events = {}\n",
    "\n",
    "for row in df.iterrows():\n",
    "    row_id, row = row\n",
    "    event_type = row['Type']\n",
    "    event_subtype = row['Subtype']\n",
    "    event_subsubtype = row['Sub-subtype']\n",
    "    event_definition = row['Definition']\n",
    "    event_template = row['Template']\n",
    "    event_args = []\n",
    "    arg_id = 1\n",
    "    while True:\n",
    "        if f'arg{arg_id} label' not in row:\n",
    "            break\n",
    "        arg_label = row[f'arg{arg_id} label']\n",
    "        if pd.isna(arg_label):\n",
    "            break\n",
    "        arg_label = arg_label.strip()\n",
    "        arg_constraints_str = row[f'arg{arg_id} type constraints']\n",
    "        arg_constraints = arg_constraints_str.strip().split(', ')\n",
    "        event_args.append((arg_label, arg_constraints))\n",
    "        arg_id += 1\n",
    "    if event_subtype == 'Unspecified':\n",
    "        event_name = event_type\n",
    "    elif event_subsubtype == 'Unspecified':\n",
    "        event_name = f'{event_type}.{event_subtype}'\n",
    "    else:\n",
    "        event_name = f'{event_type}.{event_subtype}.{event_subsubtype}'\n",
    "    \n",
    "    assert event_name not in events\n",
    "    events[event_name] = {\n",
    "        'definition': event_definition,\n",
    "        'template': event_template,\n",
    "        'args': event_args\n",
    "    }"
   ]
  },
  {
   "cell_type": "code",
   "execution_count": 280,
   "metadata": {},
   "outputs": [],
   "source": [
    "def to_short_name(event_name):\n",
    "    event_type, rest = event_name.split('.', 1)\n",
    "    event_abbr = ''.join([c for c in event_type if c.isupper()])\n",
    "    return f'{event_abbr}.{rest}'"
   ]
  },
  {
   "cell_type": "markdown",
   "metadata": {},
   "source": [
    "## Generate Blockly blocks"
   ]
  },
  {
   "cell_type": "code",
   "execution_count": 281,
   "metadata": {},
   "outputs": [],
   "source": [
    "def event_to_blocks(event_name, event_body):\n",
    "    # create top block for a given event\n",
    "    out_blocks = [{\n",
    "        'type': f'kairos_event_{event_name}',\n",
    "        'message0': to_short_name(event_name),\n",
    "        'message1': '%1',\n",
    "        'args1': [{\n",
    "            'type': 'input_statement',\n",
    "            'name': 'parts'\n",
    "        }],\n",
    "        'previousStatement': None,\n",
    "        'nextStatement': None,\n",
    "        'style': 'loop_blocks',  # TODO: change\n",
    "    }]\n",
    "    # replace <argI> i=1.. with arg names\n",
    "    # split by |, and create separate blocks for each body part\n",
    "    event_template = event_body['template']\n",
    "    body_parts = event_template.split('|')\n",
    "    for i, body_part in enumerate(body_parts):\n",
    "        body_part = body_part.strip()\n",
    "        body_args = []\n",
    "        body_part_arg_cntr = 0\n",
    "        for j, (arg_name, _) in enumerate(event_body['args'], 1):\n",
    "            arg_id_str = f'<arg{j}>'\n",
    "            if arg_id_str in body_part:\n",
    "                body_part_arg_cntr += 1\n",
    "                body_part = body_part.replace(arg_id_str, f'%{body_part_arg_cntr}')\n",
    "                body_args.append({\n",
    "                    'type': 'input_value',\n",
    "                    'name': arg_name,\n",
    "                    'variable': arg_name\n",
    "                })\n",
    "        out_blocks.append({\n",
    "            'type': f'kairos_event_{event_name}_part_{i}',\n",
    "            'message0': body_part,\n",
    "            'args0': body_args,\n",
    "            'previousStatement': None,\n",
    "            'nextStatement': None,\n",
    "            'inputsInline': True,\n",
    "            'style': 'text_blocks',  # TODO: change\n",
    "            'extensions': ['kairos_events_checkVarName']\n",
    "        })\n",
    "    \n",
    "    return out_blocks\n",
    "        \n",
    "\n",
    "## Generate block JSON descriptions\n",
    "\n",
    "event_blocks_json = ''\n",
    "\n",
    "for event_name, event_body in events.items():\n",
    "    event_blocks = event_to_blocks(event_name, event_body)\n",
    "    for event_block in event_blocks:\n",
    "        event_blocks_json += 'Blockly.defineBlocksWithJsonArray([' + json.dumps(event_block) + ']);\\n'\n",
    "    \n",
    "with open('../kairos_blocks.js', 'w') as fout:\n",
    "    fout.write(event_blocks_json)"
   ]
  },
  {
   "cell_type": "code",
   "execution_count": 288,
   "metadata": {},
   "outputs": [],
   "source": [
    "## Generate XML list of blocks\n",
    "\n",
    "list_of_blocks_xml = '<xml xmlns=\"https://developers.google.com/blockly/xml\" id=\"toolbox-kairos-blocks\" style=\"display: none\">\\n'\n",
    "\n",
    "events_names_dict = collections.defaultdict(list)\n",
    "\n",
    "for event_name in events.keys():\n",
    "    event_type = event_name.split('.')[0]\n",
    "    events_names_dict[event_type].append(event_name)\n",
    "\n",
    "for event_type, v in events_names_dict.items():\n",
    "    list_of_blocks_xml += f'<category name=\"{event_type}\" categorystyle=\"list_category\">\\n'\n",
    "    events_names_dict[event_type].sort()\n",
    "    for event_name in events_names_dict[event_type]:\n",
    "        list_of_blocks_xml += f'  <block type=\"kairos_event_{event_name}\" editable=\"false\">\\n'\n",
    "        list_of_blocks_xml += f'    <statement name=\"parts\">\\n'\n",
    "        event_args = events[event_name]['args']\n",
    "        event_body_parts = events[event_name]['template'].split('|')\n",
    "        for i, body_part in enumerate(event_body_parts):\n",
    "            list_of_blocks_xml += f'      <block type=\"kairos_event_{event_name}_part_{i}\" movable=\"false\">\\n'\n",
    "            for arg_id_str in regex.findall('<arg(\\d+)>', body_part):\n",
    "                arg_id = int(arg_id_str) - 1\n",
    "                arg_name = event_args[arg_id][0]\n",
    "                list_of_blocks_xml += f'        <value name=\"{arg_name}\"><block type=\"variables_get\"><field name=\"VAR\">{arg_name}</field></block></value>\\n'\n",
    "            if i != len(event_body_parts) - 1:\n",
    "                list_of_blocks_xml += f'      <next>\\n'\n",
    "        for i in range(len(event_body_parts) - 1):\n",
    "            list_of_blocks_xml += f'      </block>\\n'\n",
    "            list_of_blocks_xml += f'      </next>\\n'\n",
    "        list_of_blocks_xml += f'      </block>\\n'\n",
    "        event_args = events[event_name]['args']\n",
    "        list_of_blocks_xml += f'    </statement>\\n'\n",
    "        list_of_blocks_xml += '  </block>\\n'\n",
    "    list_of_blocks_xml += '</category>\\n'\n",
    "\n",
    "# Add control blocks\n",
    "list_of_blocks_xml += '<sep></sep>\\n'\n",
    "list_of_blocks_xml += '<category name=\"Control blocks\" categorystyle=\"variable_category\">\\n'\n",
    "list_of_blocks_xml += '  <block type=\"kairos_control_parallel\"></block>\\n'\n",
    "list_of_blocks_xml += '</category>\\n'\n",
    "list_of_blocks_xml += '</xml>\\n'\n",
    "\n",
    "with open('../kairos_blocks.xml', 'w') as fout:\n",
    "    fout.write(list_of_blocks_xml)"
   ]
  },
  {
   "cell_type": "markdown",
   "metadata": {},
   "source": [
    "---"
   ]
  }
 ],
 "metadata": {
  "kernelspec": {
   "display_name": "schema-ui",
   "language": "python",
   "name": "schema-ui"
  },
  "language_info": {
   "codemirror_mode": {
    "name": "ipython",
    "version": 3
   },
   "file_extension": ".py",
   "mimetype": "text/x-python",
   "name": "python",
   "nbconvert_exporter": "python",
   "pygments_lexer": "ipython3",
   "version": "3.7.8"
  }
 },
 "nbformat": 4,
 "nbformat_minor": 2
}
